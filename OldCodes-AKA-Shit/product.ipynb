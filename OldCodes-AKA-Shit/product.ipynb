{
 "cells": [
  {
   "cell_type": "markdown",
   "metadata": {},
   "source": [
    "使用Wind金融数据库的数据，编写的pandas版指标计算逻辑？\n",
    "\n",
    "我在CMB的半年都写了些什么狗屎啊。。。"
   ]
  },
  {
   "cell_type": "code",
   "execution_count": 2,
   "metadata": {},
   "outputs": [
    {
     "data": {
      "text/plain": [
       "True"
      ]
     },
     "execution_count": 2,
     "metadata": {},
     "output_type": "execute_result"
    }
   ],
   "source": [
    "w.isconnected()"
   ]
  },
  {
   "cell_type": "code",
   "execution_count": 3,
   "metadata": {},
   "outputs": [],
   "source": [
    "import matplotlib.pyplot as plt"
   ]
  },
  {
   "cell_type": "code",
   "execution_count": 4,
   "metadata": {},
   "outputs": [],
   "source": [
    "DT = date(2022,1,14)                           # T-1天\n",
    "BDT = DT - timedelta(days = 364)\n",
    "FT = date(2020,1,1)"
   ]
  },
  {
   "cell_type": "code",
   "execution_count": 5,
   "metadata": {},
   "outputs": [],
   "source": [
    "riskfree = w.edb(\"S0059744\", FT, DT, usedf=True)[1].reset_index()\n",
    "riskfree.columns = ['date', 'riskfree']\n",
    "benchmark = w.wsd(\"885061.WI\", \"pct_chg\", FT, DT, \"\", usedf=True)[1].reset_index()\n",
    "benchmark.columns = ['date', 'benchmark']\n",
    "nav000126 = w.wsd(\"000126.OF\", \"nav,NAV_acc,NAV_adj,NAV_adj_return1\", FT, DT, \"\", usedf=True)[1].reset_index()\n",
    "nav000126.columns = ['date', 'nav', 'acc_nav', 'adj_nav', 'adj_pctchg']"
   ]
  },
  {
   "cell_type": "code",
   "execution_count": 13,
   "metadata": {},
   "outputs": [
    {
     "data": {
      "text/html": [
       "<div>\n",
       "<style scoped>\n",
       "    .dataframe tbody tr th:only-of-type {\n",
       "        vertical-align: middle;\n",
       "    }\n",
       "\n",
       "    .dataframe tbody tr th {\n",
       "        vertical-align: top;\n",
       "    }\n",
       "\n",
       "    .dataframe thead th {\n",
       "        text-align: right;\n",
       "    }\n",
       "</style>\n",
       "<table border=\"1\" class=\"dataframe\">\n",
       "  <thead>\n",
       "    <tr style=\"text-align: right;\">\n",
       "      <th></th>\n",
       "      <th>date</th>\n",
       "      <th>nav</th>\n",
       "      <th>acc_nav</th>\n",
       "      <th>adj_nav</th>\n",
       "      <th>adj_pctchg</th>\n",
       "      <th>benchmark</th>\n",
       "      <th>riskfree</th>\n",
       "    </tr>\n",
       "    <tr>\n",
       "      <th>code</th>\n",
       "      <th></th>\n",
       "      <th></th>\n",
       "      <th></th>\n",
       "      <th></th>\n",
       "      <th></th>\n",
       "      <th></th>\n",
       "      <th></th>\n",
       "    </tr>\n",
       "  </thead>\n",
       "  <tbody>\n",
       "    <tr>\n",
       "      <th>000126.OF</th>\n",
       "      <td>2022-01-14</td>\n",
       "      <td>3.8071</td>\n",
       "      <td>4.1511</td>\n",
       "      <td>5.116784</td>\n",
       "      <td>2.064288</td>\n",
       "      <td>0.131143</td>\n",
       "      <td>0.008596</td>\n",
       "    </tr>\n",
       "    <tr>\n",
       "      <th>000126.OF</th>\n",
       "      <td>2022-01-13</td>\n",
       "      <td>3.7301</td>\n",
       "      <td>4.0741</td>\n",
       "      <td>5.013295</td>\n",
       "      <td>-1.723093</td>\n",
       "      <td>-1.297189</td>\n",
       "      <td>0.008631</td>\n",
       "    </tr>\n",
       "    <tr>\n",
       "      <th>000126.OF</th>\n",
       "      <td>2022-01-12</td>\n",
       "      <td>3.7955</td>\n",
       "      <td>4.1395</td>\n",
       "      <td>5.101194</td>\n",
       "      <td>3.801449</td>\n",
       "      <td>1.037650</td>\n",
       "      <td>0.008665</td>\n",
       "    </tr>\n",
       "    <tr>\n",
       "      <th>000126.OF</th>\n",
       "      <td>2022-01-11</td>\n",
       "      <td>3.6565</td>\n",
       "      <td>4.0005</td>\n",
       "      <td>4.914376</td>\n",
       "      <td>-1.572048</td>\n",
       "      <td>-0.910612</td>\n",
       "      <td>0.008688</td>\n",
       "    </tr>\n",
       "    <tr>\n",
       "      <th>000126.OF</th>\n",
       "      <td>2022-01-10</td>\n",
       "      <td>3.7149</td>\n",
       "      <td>4.0589</td>\n",
       "      <td>4.992866</td>\n",
       "      <td>-0.742779</td>\n",
       "      <td>0.251354</td>\n",
       "      <td>0.008761</td>\n",
       "    </tr>\n",
       "    <tr>\n",
       "      <th>...</th>\n",
       "      <td>...</td>\n",
       "      <td>...</td>\n",
       "      <td>...</td>\n",
       "      <td>...</td>\n",
       "      <td>...</td>\n",
       "      <td>...</td>\n",
       "      <td>...</td>\n",
       "    </tr>\n",
       "    <tr>\n",
       "      <th>000126.OF</th>\n",
       "      <td>2020-01-08</td>\n",
       "      <td>1.4467</td>\n",
       "      <td>1.7907</td>\n",
       "      <td>1.944381</td>\n",
       "      <td>-0.508906</td>\n",
       "      <td>-0.654414</td>\n",
       "      <td>0.009096</td>\n",
       "    </tr>\n",
       "    <tr>\n",
       "      <th>000126.OF</th>\n",
       "      <td>2020-01-07</td>\n",
       "      <td>1.4541</td>\n",
       "      <td>1.7981</td>\n",
       "      <td>1.954326</td>\n",
       "      <td>1.225200</td>\n",
       "      <td>0.626955</td>\n",
       "      <td>0.009593</td>\n",
       "    </tr>\n",
       "    <tr>\n",
       "      <th>000126.OF</th>\n",
       "      <td>2020-01-06</td>\n",
       "      <td>1.4365</td>\n",
       "      <td>1.7805</td>\n",
       "      <td>1.930672</td>\n",
       "      <td>0.984183</td>\n",
       "      <td>0.126821</td>\n",
       "      <td>0.009534</td>\n",
       "    </tr>\n",
       "    <tr>\n",
       "      <th>000126.OF</th>\n",
       "      <td>2020-01-03</td>\n",
       "      <td>1.4225</td>\n",
       "      <td>1.7665</td>\n",
       "      <td>1.911856</td>\n",
       "      <td>0.119651</td>\n",
       "      <td>-0.022505</td>\n",
       "      <td>0.009627</td>\n",
       "    </tr>\n",
       "    <tr>\n",
       "      <th>000126.OF</th>\n",
       "      <td>2020-01-02</td>\n",
       "      <td>1.4208</td>\n",
       "      <td>1.7648</td>\n",
       "      <td>1.909571</td>\n",
       "      <td>3.016241</td>\n",
       "      <td>1.068031</td>\n",
       "      <td>0.009550</td>\n",
       "    </tr>\n",
       "  </tbody>\n",
       "</table>\n",
       "<p>495 rows × 7 columns</p>\n",
       "</div>"
      ],
      "text/plain": [
       "                 date     nav  acc_nav   adj_nav  adj_pctchg  benchmark  \\\n",
       "code                                                                      \n",
       "000126.OF  2022-01-14  3.8071   4.1511  5.116784    2.064288   0.131143   \n",
       "000126.OF  2022-01-13  3.7301   4.0741  5.013295   -1.723093  -1.297189   \n",
       "000126.OF  2022-01-12  3.7955   4.1395  5.101194    3.801449   1.037650   \n",
       "000126.OF  2022-01-11  3.6565   4.0005  4.914376   -1.572048  -0.910612   \n",
       "000126.OF  2022-01-10  3.7149   4.0589  4.992866   -0.742779   0.251354   \n",
       "...               ...     ...      ...       ...         ...        ...   \n",
       "000126.OF  2020-01-08  1.4467   1.7907  1.944381   -0.508906  -0.654414   \n",
       "000126.OF  2020-01-07  1.4541   1.7981  1.954326    1.225200   0.626955   \n",
       "000126.OF  2020-01-06  1.4365   1.7805  1.930672    0.984183   0.126821   \n",
       "000126.OF  2020-01-03  1.4225   1.7665  1.911856    0.119651  -0.022505   \n",
       "000126.OF  2020-01-02  1.4208   1.7648  1.909571    3.016241   1.068031   \n",
       "\n",
       "           riskfree  \n",
       "code                 \n",
       "000126.OF  0.008596  \n",
       "000126.OF  0.008631  \n",
       "000126.OF  0.008665  \n",
       "000126.OF  0.008688  \n",
       "000126.OF  0.008761  \n",
       "...             ...  \n",
       "000126.OF  0.009096  \n",
       "000126.OF  0.009593  \n",
       "000126.OF  0.009534  \n",
       "000126.OF  0.009627  \n",
       "000126.OF  0.009550  \n",
       "\n",
       "[495 rows x 7 columns]"
      ]
     },
     "execution_count": 13,
     "metadata": {},
     "output_type": "execute_result"
    }
   ],
   "source": [
    "nav = nav000126.merge(benchmark).merge(riskfree)\n",
    "nav['code'] = '000126.OF'\n",
    "nav = nav.set_index(['code']).sort_values('date',ascending=False)\n",
    "nav['riskfree'] = ((nav['riskfree'] / 100 + 1) ** (1.0 / 250) - 1) * 100\n",
    "# nav['riskfree'] = nav['riskfree'] / sqrt(250)\n",
    "nav"
   ]
  },
  {
   "cell_type": "code",
   "execution_count": 14,
   "metadata": {},
   "outputs": [],
   "source": [
    "navy = nav[nav['date'] > date(2021,1,13)]"
   ]
  },
  {
   "cell_type": "code",
   "execution_count": 175,
   "metadata": {},
   "outputs": [
    {
     "data": {
      "text/html": [
       "<div>\n",
       "<style scoped>\n",
       "    .dataframe tbody tr th:only-of-type {\n",
       "        vertical-align: middle;\n",
       "    }\n",
       "\n",
       "    .dataframe tbody tr th {\n",
       "        vertical-align: top;\n",
       "    }\n",
       "\n",
       "    .dataframe thead th {\n",
       "        text-align: right;\n",
       "    }\n",
       "</style>\n",
       "<table border=\"1\" class=\"dataframe\">\n",
       "  <thead>\n",
       "    <tr style=\"text-align: right;\">\n",
       "      <th></th>\n",
       "      <th>date</th>\n",
       "      <th>acc_return</th>\n",
       "      <th>acc_bench</th>\n",
       "      <th>acc_ex</th>\n",
       "    </tr>\n",
       "    <tr>\n",
       "      <th>code</th>\n",
       "      <th></th>\n",
       "      <th></th>\n",
       "      <th></th>\n",
       "      <th></th>\n",
       "    </tr>\n",
       "  </thead>\n",
       "  <tbody>\n",
       "    <tr>\n",
       "      <th>000126.OF</th>\n",
       "      <td>2022-01-14</td>\n",
       "      <td>37.10</td>\n",
       "      <td>3.21</td>\n",
       "      <td>33.89</td>\n",
       "    </tr>\n",
       "    <tr>\n",
       "      <th>000126.OF</th>\n",
       "      <td>2022-01-13</td>\n",
       "      <td>34.33</td>\n",
       "      <td>3.08</td>\n",
       "      <td>31.25</td>\n",
       "    </tr>\n",
       "    <tr>\n",
       "      <th>000126.OF</th>\n",
       "      <td>2022-01-12</td>\n",
       "      <td>36.69</td>\n",
       "      <td>4.43</td>\n",
       "      <td>32.25</td>\n",
       "    </tr>\n",
       "    <tr>\n",
       "      <th>000126.OF</th>\n",
       "      <td>2022-01-11</td>\n",
       "      <td>31.68</td>\n",
       "      <td>3.36</td>\n",
       "      <td>28.32</td>\n",
       "    </tr>\n",
       "    <tr>\n",
       "      <th>000126.OF</th>\n",
       "      <td>2022-01-10</td>\n",
       "      <td>33.78</td>\n",
       "      <td>4.31</td>\n",
       "      <td>29.47</td>\n",
       "    </tr>\n",
       "    <tr>\n",
       "      <th>...</th>\n",
       "      <td>...</td>\n",
       "      <td>...</td>\n",
       "      <td>...</td>\n",
       "      <td>...</td>\n",
       "    </tr>\n",
       "    <tr>\n",
       "      <th>000126.OF</th>\n",
       "      <td>2021-01-21</td>\n",
       "      <td>6.59</td>\n",
       "      <td>2.54</td>\n",
       "      <td>4.06</td>\n",
       "    </tr>\n",
       "    <tr>\n",
       "      <th>000126.OF</th>\n",
       "      <td>2021-01-20</td>\n",
       "      <td>4.55</td>\n",
       "      <td>1.39</td>\n",
       "      <td>3.16</td>\n",
       "    </tr>\n",
       "    <tr>\n",
       "      <th>000126.OF</th>\n",
       "      <td>2021-01-19</td>\n",
       "      <td>0.42</td>\n",
       "      <td>0.17</td>\n",
       "      <td>0.25</td>\n",
       "    </tr>\n",
       "    <tr>\n",
       "      <th>000126.OF</th>\n",
       "      <td>2021-01-18</td>\n",
       "      <td>3.71</td>\n",
       "      <td>1.18</td>\n",
       "      <td>2.53</td>\n",
       "    </tr>\n",
       "    <tr>\n",
       "      <th>000126.OF</th>\n",
       "      <td>2021-01-15</td>\n",
       "      <td>1.94</td>\n",
       "      <td>0.06</td>\n",
       "      <td>1.88</td>\n",
       "    </tr>\n",
       "  </tbody>\n",
       "</table>\n",
       "<p>243 rows × 4 columns</p>\n",
       "</div>"
      ],
      "text/plain": [
       "                 date  acc_return  acc_bench  acc_ex\n",
       "code                                                \n",
       "000126.OF  2022-01-14       37.10       3.21   33.89\n",
       "000126.OF  2022-01-13       34.33       3.08   31.25\n",
       "000126.OF  2022-01-12       36.69       4.43   32.25\n",
       "000126.OF  2022-01-11       31.68       3.36   28.32\n",
       "000126.OF  2022-01-10       33.78       4.31   29.47\n",
       "...               ...         ...        ...     ...\n",
       "000126.OF  2021-01-21        6.59       2.54    4.06\n",
       "000126.OF  2021-01-20        4.55       1.39    3.16\n",
       "000126.OF  2021-01-19        0.42       0.17    0.25\n",
       "000126.OF  2021-01-18        3.71       1.18    2.53\n",
       "000126.OF  2021-01-15        1.94       0.06    1.88\n",
       "\n",
       "[243 rows x 4 columns]"
      ]
     },
     "execution_count": 175,
     "metadata": {},
     "output_type": "execute_result"
    },
    {
     "data": {
      "image/png": "[encoded data removed]",
      "text/plain": [
       "<Figure size 432x288 with 1 Axes>"
      ]
     },
     "metadata": {
      "needs_background": "light"
     },
     "output_type": "display_data"
    }
   ],
   "source": [
    "# 累计收益\n",
    "def period_return(nav):\n",
    "    date = nav['date'][:-1]\n",
    "    acc_return = (nav['adj_nav'][:-1] / nav['adj_nav'][-1] - 1) * 100\n",
    "    plt.plot(date, acc_return)\n",
    "    acc_bench = ((1 + nav['benchmark'][:-1] / 100)[::-1].cumprod()[::-1] - 1) * 100\n",
    "    plt.plot(date, acc_bench)\n",
    "    acc_ex = acc_return - acc_bench\n",
    "    plt.plot(date, acc_ex)\n",
    "    return round(pd.DataFrame({'date':date, 'acc_return':acc_return, 'acc_bench':acc_bench, 'acc_ex':acc_ex}), 2).fillna(0)\n",
    "period_return(navy)"
   ]
  },
  {
   "cell_type": "code",
   "execution_count": 182,
   "metadata": {},
   "outputs": [
    {
     "data": {
      "text/plain": [
       "(37.1, 38.36)"
      ]
     },
     "execution_count": 182,
     "metadata": {},
     "output_type": "execute_result"
    }
   ],
   "source": [
    "# 年化总收益\n",
    "def rp(nav):\n",
    "    rpt = (nav['adj_nav'][0] / nav['adj_nav'][-1] - 1) * 100\n",
    "    rpa = ((rpt / 100 + 1) ** (250 / (nav[:-1].count()[0])) - 1) * 100\n",
    "    return round(rpt, 2), round(rpa, 2)\n",
    "rp(navy)"
   ]
  },
  {
   "cell_type": "code",
   "execution_count": 183,
   "metadata": {},
   "outputs": [
    {
     "data": {
      "text/plain": [
       "35.05"
      ]
     },
     "execution_count": 183,
     "metadata": {},
     "output_type": "execute_result"
    }
   ],
   "source": [
    "# 年化主动收益\n",
    "def ra(nav):\n",
    "    rb = ((1 + nav['benchmark'][:-1] / 100).prod() - 1) * 100\n",
    "    rba = ((rb / 100 + 1) ** (250 / (nav.count()[0] - 1)) - 1) * 100\n",
    "    ra = rp(nav)[1] - rba\n",
    "    return round(ra, 2)\n",
    "ra(navy)"
   ]
  },
  {
   "cell_type": "code",
   "execution_count": 185,
   "metadata": {},
   "outputs": [
    {
     "data": {
      "text/plain": [
       "36.65"
      ]
     },
     "execution_count": 185,
     "metadata": {},
     "output_type": "execute_result"
    }
   ],
   "source": [
    "# 年化主动收益-另一种算法\n",
    "def ra2(nav):\n",
    "    active_return = nav['adj_pctchg'] - nav['benchmark']\n",
    "    ra2 = (1 + active_return[:-1] / 100).prod()\n",
    "    ra2 = (ra2 ** (250 / active_return[:-1].count()) - 1) * 100\n",
    "    return round(ra2, 2)\n",
    "ra2(navy)"
   ]
  },
  {
   "cell_type": "code",
   "execution_count": 186,
   "metadata": {},
   "outputs": [
    {
     "data": {
      "text/plain": [
       "(2.17, 0.32)"
      ]
     },
     "execution_count": 186,
     "metadata": {},
     "output_type": "execute_result"
    },
    {
     "name": "stderr",
     "output_type": "stream",
     "text": [
      "sh: 1: netstat: not found\n"
     ]
    }
   ],
   "source": [
    "## beta和alpha\n",
    "def beta(nav):\n",
    "    returns = np.array(nav['adj_pctchg'])\n",
    "    benchmark = np.array(nav['benchmark'])\n",
    "    riskfree = np.array(nav['riskfree'])\n",
    "    cov = np.cov(returns - riskfree, benchmark - riskfree)\n",
    "    beta = cov[0][1] / cov[1][1]\n",
    "    alpha = (nav['adj_pctchg'] - ((nav['benchmark'] - nav['riskfree']) * beta + nav['riskfree'])).mean()\n",
    "    alpha = 250 * alpha / 100\n",
    "    return round(beta, 2), round(alpha, 2)\n",
    "beta(navy)"
   ]
  },
  {
   "cell_type": "code",
   "execution_count": 188,
   "metadata": {},
   "outputs": [
    {
     "data": {
      "text/plain": [
       "(2.17, 34.37, 1.05)"
      ]
     },
     "execution_count": 188,
     "metadata": {},
     "output_type": "execute_result"
    }
   ],
   "source": [
    "# 年化波动率\n",
    "def sigmap(nav):\n",
    "    std = nav['adj_pctchg'][:-1].std()\n",
    "    sigmap = std * sqrt(250)\n",
    "    mean = (nav['adj_pctchg'] - nav['riskfree'])[:-1].mean()\n",
    "    sharpe = mean / std * sqrt(250)\n",
    "    return round(std, 2), round(sigmap, 2), round(sharpe, 2)\n",
    "sigmap(navy)"
   ]
  },
  {
   "cell_type": "code",
   "execution_count": 192,
   "metadata": {},
   "outputs": [
    {
     "data": {
      "text/html": [
       "<div>\n",
       "<style scoped>\n",
       "    .dataframe tbody tr th:only-of-type {\n",
       "        vertical-align: middle;\n",
       "    }\n",
       "\n",
       "    .dataframe tbody tr th {\n",
       "        vertical-align: top;\n",
       "    }\n",
       "\n",
       "    .dataframe thead th {\n",
       "        text-align: right;\n",
       "    }\n",
       "</style>\n",
       "<table border=\"1\" class=\"dataframe\">\n",
       "  <thead>\n",
       "    <tr style=\"text-align: right;\">\n",
       "      <th></th>\n",
       "      <th>date</th>\n",
       "      <th>drawdown</th>\n",
       "    </tr>\n",
       "    <tr>\n",
       "      <th>code</th>\n",
       "      <th></th>\n",
       "      <th></th>\n",
       "    </tr>\n",
       "  </thead>\n",
       "  <tbody>\n",
       "    <tr>\n",
       "      <th>000126.OF</th>\n",
       "      <td>2022-01-14</td>\n",
       "      <td>-15.744163</td>\n",
       "    </tr>\n",
       "    <tr>\n",
       "      <th>000126.OF</th>\n",
       "      <td>2022-01-13</td>\n",
       "      <td>-17.448268</td>\n",
       "    </tr>\n",
       "    <tr>\n",
       "      <th>000126.OF</th>\n",
       "      <td>2022-01-12</td>\n",
       "      <td>-16.000885</td>\n",
       "    </tr>\n",
       "    <tr>\n",
       "      <th>000126.OF</th>\n",
       "      <td>2022-01-11</td>\n",
       "      <td>-19.077127</td>\n",
       "    </tr>\n",
       "    <tr>\n",
       "      <th>000126.OF</th>\n",
       "      <td>2022-01-10</td>\n",
       "      <td>-17.784663</td>\n",
       "    </tr>\n",
       "    <tr>\n",
       "      <th>...</th>\n",
       "      <td>...</td>\n",
       "      <td>...</td>\n",
       "    </tr>\n",
       "    <tr>\n",
       "      <th>000126.OF</th>\n",
       "      <td>2020-01-09</td>\n",
       "      <td>0.000000</td>\n",
       "    </tr>\n",
       "    <tr>\n",
       "      <th>000126.OF</th>\n",
       "      <td>2020-01-08</td>\n",
       "      <td>-0.508906</td>\n",
       "    </tr>\n",
       "    <tr>\n",
       "      <th>000126.OF</th>\n",
       "      <td>2020-01-07</td>\n",
       "      <td>0.000000</td>\n",
       "    </tr>\n",
       "    <tr>\n",
       "      <th>000126.OF</th>\n",
       "      <td>2020-01-06</td>\n",
       "      <td>0.000000</td>\n",
       "    </tr>\n",
       "    <tr>\n",
       "      <th>000126.OF</th>\n",
       "      <td>2020-01-03</td>\n",
       "      <td>0.000000</td>\n",
       "    </tr>\n",
       "  </tbody>\n",
       "</table>\n",
       "<p>494 rows × 2 columns</p>\n",
       "</div>"
      ],
      "text/plain": [
       "                 date   drawdown\n",
       "code                            \n",
       "000126.OF  2022-01-14 -15.744163\n",
       "000126.OF  2022-01-13 -17.448268\n",
       "000126.OF  2022-01-12 -16.000885\n",
       "000126.OF  2022-01-11 -19.077127\n",
       "000126.OF  2022-01-10 -17.784663\n",
       "...               ...        ...\n",
       "000126.OF  2020-01-09   0.000000\n",
       "000126.OF  2020-01-08  -0.508906\n",
       "000126.OF  2020-01-07   0.000000\n",
       "000126.OF  2020-01-06   0.000000\n",
       "000126.OF  2020-01-03   0.000000\n",
       "\n",
       "[494 rows x 2 columns]"
      ]
     },
     "execution_count": 192,
     "metadata": {},
     "output_type": "execute_result"
    },
    {
     "data": {
      "image/png": "[encoded data removed]",
      "text/plain": [
       "<Figure size 432x288 with 1 Axes>"
      ]
     },
     "metadata": {
      "needs_background": "light"
     },
     "output_type": "display_data"
    },
    {
     "name": "stderr",
     "output_type": "stream",
     "text": [
      "sh: 1: netstat: not found\n"
     ]
    }
   ],
   "source": [
    "# 最大回撤\n",
    "def drawdown(nav):\n",
    "    acc_return = (nav['adj_nav'][:-1] / nav['adj_nav'][-1] - 1) * 100\n",
    "    maxhis = acc_return[::-1].cummax()[::-1]\n",
    "    drawdown = ((acc_return + 100) / (maxhis + 100) - 1) * 100\n",
    "    plt.plot(nav['date'][:-1], drawdown)\n",
    "    return pd.DataFrame({'date':nav['date'][:-1], 'drawdown':drawdown})\n",
    "drawdown(nav)"
   ]
  },
  {
   "cell_type": "code",
   "execution_count": 196,
   "metadata": {},
   "outputs": [
    {
     "data": {
      "text/plain": [
       "(24.57, 1.39)"
      ]
     },
     "execution_count": 196,
     "metadata": {},
     "output_type": "execute_result"
    }
   ],
   "source": [
    "def info(nav):\n",
    "    active = nav['adj_pctchg'] - nav['benchmark']\n",
    "    track_error = active[:-1].std() * sqrt(250)\n",
    "    info = active[:-1].mean() / track_error * 250\n",
    "    return round(track_error, 2), round(info, 2)\n",
    "info(navy)"
   ]
  },
  {
   "cell_type": "code",
   "execution_count": 205,
   "metadata": {},
   "outputs": [
    {
     "data": {
      "text/plain": [
       "407.1397190686472"
      ]
     },
     "execution_count": 205,
     "metadata": {},
     "output_type": "execute_result"
    }
   ],
   "source": [
    "((nav[nav['adj_pctchg'] < 0]['adj_pctchg'] - (nav[nav['adj_pctchg'] < 0]['adj_pctchg']).mean())**2).sum() / nav"
   ]
  },
  {
   "cell_type": "code",
   "execution_count": 207,
   "metadata": {},
   "outputs": [
    {
     "data": {
      "text/plain": [
       "13.35"
      ]
     },
     "execution_count": 207,
     "metadata": {},
     "output_type": "execute_result"
    }
   ],
   "source": [
    "def dr(nav):\n",
    "    downret = nav[nav['adj_pctchg'] < 0]['adj_pctchg']\n",
    "    mean = downret.mean()\n",
    "    sumsquard = ((downret - mean) ** 2).sum()\n",
    "    T = nav.count()[0] - 1\n",
    "    return round(sqrt(sumsquard / T * 250), 2)\n",
    "dr(navy)"
   ]
  },
  {
   "cell_type": "code",
   "execution_count": 208,
   "metadata": {},
   "outputs": [
    {
     "data": {
      "text/plain": [
       "-4.963440550372795"
      ]
     },
     "execution_count": 208,
     "metadata": {},
     "output_type": "execute_result"
    }
   ],
   "source": [
    "def max_decline(nav):\n",
    "    return nav['adj_pctchg'].min()\n",
    "max_decline(navy)"
   ]
  },
  {
   "cell_type": "code",
   "execution_count": 213,
   "metadata": {},
   "outputs": [
    {
     "data": {
      "text/plain": [
       "code\n",
       "000126.OF    3.016241\n",
       "000126.OF    0.119651\n",
       "000126.OF    0.984183\n",
       "000126.OF    1.225200\n",
       "000126.OF   -0.508906\n",
       "               ...   \n",
       "000126.OF   -0.742779\n",
       "000126.OF   -1.572048\n",
       "000126.OF    3.801449\n",
       "000126.OF   -1.723093\n",
       "000126.OF    2.064288\n",
       "Name: adj_pctchg, Length: 495, dtype: float64"
      ]
     },
     "execution_count": 213,
     "metadata": {},
     "output_type": "execute_result"
    }
   ],
   "source": [
    "nav['adj_pctchg'][::-1]"
   ]
  },
  {
   "cell_type": "code",
   "execution_count": 214,
   "metadata": {},
   "outputs": [
    {
     "data": {
      "text/plain": [
       "7"
      ]
     },
     "execution_count": 214,
     "metadata": {},
     "output_type": "execute_result"
    }
   ],
   "source": [
    "def keep_decline(nav):\n",
    "    navlist = nav['adj_pctchg'][::-1]\n",
    "    temp = 0    # 当前连跌次数\n",
    "    maxd = 0    # 历史最大的连跌次数\n",
    "    for i in range(0, len(nav)):\n",
    "        if navlist[i] < 0:\n",
    "            temp += 1\n",
    "            if temp > maxd:\n",
    "                maxd = temp\n",
    "        else:\n",
    "            temp = 0\n",
    "    return maxd\n",
    "keep_decline(navy)"
   ]
  },
  {
   "cell_type": "code",
   "execution_count": 220,
   "metadata": {},
   "outputs": [
    {
     "data": {
      "text/plain": [
       "-3.24"
      ]
     },
     "execution_count": 220,
     "metadata": {},
     "output_type": "execute_result"
    }
   ],
   "source": [
    "def var(nav):\n",
    "    return round(nav['adj_pctchg'].quantile(0.05), 2)\n",
    "var(navy)"
   ]
  },
  {
   "cell_type": "code",
   "execution_count": 222,
   "metadata": {},
   "outputs": [
    {
     "data": {
      "text/plain": [
       "0.8310188815894727"
      ]
     },
     "execution_count": 222,
     "metadata": {},
     "output_type": "execute_result"
    }
   ],
   "source": [
    "def xgxs(nav):\n",
    "    return nav['adj_pctchg'].corr(nav['benchmark'])\n",
    "xgxs(navy)"
   ]
  },
  {
   "cell_type": "code",
   "execution_count": 11,
   "metadata": {},
   "outputs": [
    {
     "name": "stderr",
     "output_type": "stream",
     "text": [
      "/tmp/ipykernel_7906/2253110990.py:3: SettingWithCopyWarning: \n",
      "A value is trying to be set on a copy of a slice from a DataFrame.\n",
      "Try using .loc[row_indexer,col_indexer] = value instead\n",
      "\n",
      "See the caveats in the documentation: https://pandas.pydata.org/pandas-docs/stable/user_guide/indexing.html#returning-a-view-versus-a-copy\n",
      "  _nav['adj_pctchg'] = _nav['adj_pctchg'] / 100 + 1\n"
     ]
    },
    {
     "data": {
      "text/plain": [
       "(30.1, 31.09)"
      ]
     },
     "execution_count": 11,
     "metadata": {},
     "output_type": "execute_result"
    },
    {
     "name": "stderr",
     "output_type": "stream",
     "text": [
      "sh: 1: netstat: not found\n"
     ]
    }
   ],
   "source": [
    "def period_return(nav, bgndt=BDT, enddt=DT): #截止日期默认为最新日期\n",
    "    _nav = nav[nav['date'].between(bgndt, enddt)]\n",
    "    _nav['adj_pctchg'] = _nav['adj_pctchg'] / 100 + 1\n",
    "    returnmn = (_nav.groupby('code')['adj_pctchg'].prod()[0] - 1) * 100\n",
    "    cnt = _nav.count()[0]\n",
    "    ann_returnmn = (1 + returnmn/100) ** (250 / cnt) * 100 - 100    \n",
    "    return round(returnmn, 2), round(ann_returnmn, 2)\n",
    "period_return(nav)"
   ]
  },
  {
   "cell_type": "code",
   "execution_count": 12,
   "metadata": {},
   "outputs": [
    {
     "data": {
      "text/plain": [
       "1.6218372033266695"
      ]
     },
     "execution_count": 12,
     "metadata": {},
     "output_type": "execute_result"
    }
   ],
   "source": [
    "# sharpe\n",
    "mean = (nav['adj_pctchg'] - nav['riskfree']).agg(['mean', 'std'])\n",
    "sqrt(250) * mean['mean'] / mean['std']"
   ]
  },
  {
   "cell_type": "code",
   "execution_count": 108,
   "metadata": {},
   "outputs": [
    {
     "data": {
      "text/plain": [
       "(2.17, 34.37)"
      ]
     },
     "execution_count": 108,
     "metadata": {},
     "output_type": "execute_result"
    },
    {
     "name": "stderr",
     "output_type": "stream",
     "text": [
      "sh: 1: netstat: not found\n",
      "sh: 1: netstat: not found\n",
      "sh: 1: netstat: not found\n",
      "sh: 1: netstat: not found\n",
      "sh: 1: netstat: not found\n",
      "sh: 1: netstat: not found\n",
      "sh: 1: netstat: not found\n",
      "sh: 1: netstat: not found\n",
      "sh: 1: netstat: not found\n",
      "sh: 1: netstat: not found\n",
      "sh: 1: netstat: not found\n",
      "sh: 1: netstat: not found\n",
      "sh: 1: netstat: not found\n",
      "sh: 1: netstat: not found\n",
      "sh: 1: netstat: not found\n",
      "sh: 1: netstat: not found\n"
     ]
    }
   ],
   "source": [
    "def vol(nav, bgndt=BDT, enddt=DT):\n",
    "    _nav = nav[nav['date'].between(bgndt, enddt)] \n",
    "    vol = _nav.groupby('code')['adj_pctchg'].std()[0]\n",
    "    return round(vol, 2), round(vol * sqrt(250), 2)\n",
    "vol(nav)"
   ]
  },
  {
   "cell_type": "code",
   "execution_count": 14,
   "metadata": {},
   "outputs": [
    {
     "name": "stderr",
     "output_type": "stream",
     "text": [
      "/tmp/ipykernel_7906/1505528737.py:3: SettingWithCopyWarning: \n",
      "A value is trying to be set on a copy of a slice from a DataFrame.\n",
      "Try using .loc[row_indexer,col_indexer] = value instead\n",
      "\n",
      "See the caveats in the documentation: https://pandas.pydata.org/pandas-docs/stable/user_guide/indexing.html#returning-a-view-versus-a-copy\n",
      "  _nav['active'] = (_nav['adj_pctchg'] - _nav['benchmark']) / 100\n"
     ]
    },
    {
     "data": {
      "text/plain": [
       "(15.03, -11.97)"
      ]
     },
     "execution_count": 14,
     "metadata": {},
     "output_type": "execute_result"
    }
   ],
   "source": [
    "def track_error(nav, bgndt=BDT, enddt=DT):\n",
    "    _nav = nav[nav['date'].between(bgndt, enddt)]\n",
    "    _nav['active'] = (_nav['adj_pctchg'] - _nav['benchmark']) / 100\n",
    "    std = _nav.groupby('code')['active'].std()[0]\n",
    "    mean = _nav.groupby('code')['active'].mean()[0]\n",
    "    track_error = std * sqrt(250) * 100\n",
    "    return round(track_error, 2), round(mean / track_error * 250 * 100, 2)\n",
    "track_error(nav, DT - timedelta(6))"
   ]
  },
  {
   "cell_type": "code",
   "execution_count": 15,
   "metadata": {},
   "outputs": [
    {
     "name": "stderr",
     "output_type": "stream",
     "text": [
      "/tmp/ipykernel_7906/2386675360.py:3: SettingWithCopyWarning: \n",
      "A value is trying to be set on a copy of a slice from a DataFrame.\n",
      "Try using .loc[row_indexer,col_indexer] = value instead\n",
      "\n",
      "See the caveats in the documentation: https://pandas.pydata.org/pandas-docs/stable/user_guide/indexing.html#returning-a-view-versus-a-copy\n",
      "  _nav['acc_return1'] = (_nav['adj_nav'] / _nav.groupby('code')['adj_nav'].last() - 1) * 100\n",
      "/tmp/ipykernel_7906/2386675360.py:4: SettingWithCopyWarning: \n",
      "A value is trying to be set on a copy of a slice from a DataFrame.\n",
      "Try using .loc[row_indexer,col_indexer] = value instead\n",
      "\n",
      "See the caveats in the documentation: https://pandas.pydata.org/pandas-docs/stable/user_guide/indexing.html#returning-a-view-versus-a-copy\n",
      "  _nav['drawdown'] = (_nav['adj_nav'] / _nav['adj_nav'][::-1].cummax()[::-1] - 1) * 100\n"
     ]
    }
   ],
   "source": [
    "def drawdown(nav, bgndt=BDT, enddt=DT):\n",
    "    _nav = nav[nav['date'].between(bgndt, enddt)]\n",
    "    _nav['acc_return1'] = (_nav['adj_nav'] / _nav.groupby('code')['adj_nav'].last() - 1) * 100\n",
    "    _nav['drawdown'] = (_nav['adj_nav'] / _nav['adj_nav'][::-1].cummax()[::-1] - 1) * 100\n",
    "    return _nav[['date', 'drawdown']]\n",
    "dd = drawdown(nav)"
   ]
  },
  {
   "cell_type": "code",
   "execution_count": 17,
   "metadata": {},
   "outputs": [],
   "source": [
    "import random\n",
    "import matplotlib.pyplot as plt"
   ]
  },
  {
   "cell_type": "code",
   "execution_count": 18,
   "metadata": {},
   "outputs": [
    {
     "name": "stderr",
     "output_type": "stream",
     "text": [
      "sh: 1: netstat: not found\n",
      "sh: 1: netstat: not found\n",
      "sh: 1: netstat: not found\n",
      "sh: 1: netstat: not found\n",
      "sh: 1: netstat: not found\n",
      "sh: 1: netstat: not found\n",
      "sh: 1: netstat: not found\n",
      "sh: 1: netstat: not found\n",
      "sh: 1: netstat: not found\n",
      "sh: 1: netstat: not found\n",
      "sh: 1: netstat: not found\n",
      "sh: 1: netstat: not found\n",
      "sh: 1: netstat: not found\n",
      "sh: 1: netstat: not found\n",
      "sh: 1: netstat: not found\n",
      "sh: 1: netstat: not found\n",
      "sh: 1: netstat: not found\n",
      "sh: 1: netstat: not found\n",
      "sh: 1: netstat: not found\n",
      "sh: 1: netstat: not found\n",
      "sh: 1: netstat: not found\n",
      "sh: 1: netstat: not found\n",
      "sh: 1: netstat: not found\n",
      "sh: 1: netstat: not found\n",
      "sh: 1: netstat: not found\n",
      "sh: 1: netstat: not found\n",
      "sh: 1: netstat: not found\n",
      "sh: 1: netstat: not found\n",
      "sh: 1: netstat: not found\n",
      "sh: 1: netstat: not found\n",
      "sh: 1: netstat: not found\n",
      "sh: 1: netstat: not found\n",
      "sh: 1: netstat: not found\n",
      "sh: 1: netstat: not found\n",
      "sh: 1: netstat: not found\n",
      "sh: 1: netstat: not found\n",
      "sh: 1: netstat: not found\n",
      "sh: 1: netstat: not found\n",
      "sh: 1: netstat: not found\n",
      "sh: 1: netstat: not found\n",
      "sh: 1: netstat: not found\n",
      "sh: 1: netstat: not found\n",
      "sh: 1: netstat: not found\n",
      "sh: 1: netstat: not found\n",
      "sh: 1: netstat: not found\n",
      "sh: 1: netstat: not found\n",
      "sh: 1: netstat: not found\n",
      "sh: 1: netstat: not found\n",
      "sh: 1: netstat: not found\n",
      "sh: 1: netstat: not found\n",
      "sh: 1: netstat: not found\n",
      "sh: 1: netstat: not found\n",
      "sh: 1: netstat: not found\n",
      "sh: 1: netstat: not found\n",
      "sh: 1: netstat: not found\n",
      "sh: 1: netstat: not found\n",
      "sh: 1: netstat: not found\n",
      "sh: 1: netstat: not found\n",
      "sh: 1: netstat: not found\n",
      "sh: 1: netstat: not found\n",
      "sh: 1: netstat: not found\n",
      "sh: 1: netstat: not found\n",
      "sh: 1: netstat: not found\n",
      "sh: 1: netstat: not found\n",
      "sh: 1: netstat: not found\n",
      "sh: 1: netstat: not found\n",
      "sh: 1: netstat: not found\n",
      "sh: 1: netstat: not found\n",
      "sh: 1: netstat: not found\n",
      "sh: 1: netstat: not found\n",
      "sh: 1: netstat: not found\n",
      "sh: 1: netstat: not found\n",
      "sh: 1: netstat: not found\n",
      "sh: 1: netstat: not found\n",
      "sh: 1: netstat: not found\n",
      "sh: 1: netstat: not found\n",
      "sh: 1: netstat: not found\n",
      "sh: 1: netstat: not found\n",
      "sh: 1: netstat: not found\n",
      "sh: 1: netstat: not found\n",
      "sh: 1: netstat: not found\n",
      "sh: 1: netstat: not found\n",
      "sh: 1: netstat: not found\n",
      "sh: 1: netstat: not found\n",
      "sh: 1: netstat: not found\n",
      "sh: 1: netstat: not found\n",
      "sh: 1: netstat: not found\n",
      "sh: 1: netstat: not found\n",
      "sh: 1: netstat: not found\n",
      "sh: 1: netstat: not found\n",
      "sh: 1: netstat: not found\n",
      "sh: 1: netstat: not found\n",
      "sh: 1: netstat: not found\n",
      "sh: 1: netstat: not found\n",
      "sh: 1: netstat: not found\n",
      "sh: 1: netstat: not found\n",
      "sh: 1: netstat: not found\n",
      "sh: 1: netstat: not found\n",
      "sh: 1: netstat: not found\n",
      "sh: 1: netstat: not found\n",
      "sh: 1: netstat: not found\n",
      "sh: 1: netstat: not found\n",
      "sh: 1: netstat: not found\n",
      "sh: 1: netstat: not found\n",
      "sh: 1: netstat: not found\n",
      "sh: 1: netstat: not found\n",
      "sh: 1: netstat: not found\n",
      "sh: 1: netstat: not found\n",
      "sh: 1: netstat: not found\n",
      "sh: 1: netstat: not found\n",
      "sh: 1: netstat: not found\n",
      "sh: 1: netstat: not found\n",
      "sh: 1: netstat: not found\n",
      "sh: 1: netstat: not found\n",
      "sh: 1: netstat: not found\n",
      "sh: 1: netstat: not found\n",
      "sh: 1: netstat: not found\n",
      "sh: 1: netstat: not found\n",
      "sh: 1: netstat: not found\n",
      "sh: 1: netstat: not found\n",
      "sh: 1: netstat: not found\n",
      "sh: 1: netstat: not found\n",
      "sh: 1: netstat: not found\n",
      "sh: 1: netstat: not found\n",
      "sh: 1: netstat: not found\n",
      "sh: 1: netstat: not found\n",
      "sh: 1: netstat: not found\n",
      "sh: 1: netstat: not found\n",
      "sh: 1: netstat: not found\n",
      "sh: 1: netstat: not found\n",
      "sh: 1: netstat: not found\n",
      "sh: 1: netstat: not found\n",
      "sh: 1: netstat: not found\n",
      "sh: 1: netstat: not found\n",
      "sh: 1: netstat: not found\n",
      "sh: 1: netstat: not found\n",
      "sh: 1: netstat: not found\n"
     ]
    }
   ],
   "source": [
    "def coin_clip():\n",
    "    return random.randint(0, 1)"
   ]
  },
  {
   "cell_type": "code",
   "execution_count": 30,
   "metadata": {},
   "outputs": [
    {
     "data": {
      "text/plain": [
       "1"
      ]
     },
     "execution_count": 30,
     "metadata": {},
     "output_type": "execute_result"
    }
   ],
   "source": [
    "coin_clip()"
   ]
  },
  {
   "cell_type": "code",
   "execution_count": 44,
   "metadata": {},
   "outputs": [],
   "source": [
    "def monte_carlo(n):\n",
    "    list1 = []\n",
    "    results = 0\n",
    "    for i in range(0, n):\n",
    "        flip_result = coin_clip()\n",
    "        results += flip_result\n",
    "\n",
    "        prob_value = results / (i + 1)\n",
    "\n",
    "        list1.append(prob_value)\n",
    "\n",
    "        plt.axhline(y=0.5, color='r', linestyle='-')\n",
    "        plt.xlabel('Iterations')\n",
    "        plt.ylabel('Probability')\n",
    "        plt.plot(list1)\n",
    "    return results / n"
   ]
  },
  {
   "cell_type": "code",
   "execution_count": 46,
   "metadata": {},
   "outputs": [
    {
     "name": "stdout",
     "output_type": "stream",
     "text": [
      "Final Value : 0.5068\n"
     ]
    },
    {
     "data": {
      "image/png": "[encoded data removed]",
      "text/plain": [
       "<Figure size 432x288 with 1 Axes>"
      ]
     },
     "metadata": {
      "needs_background": "light"
     },
     "output_type": "display_data"
    }
   ],
   "source": [
    "answer = monte_carlo(5000)\n",
    "print('Final Value :', answer)"
   ]
  },
  {
   "cell_type": "code",
   "execution_count": 47,
   "metadata": {},
   "outputs": [
    {
     "data": {
      "text/plain": [
       "1.2142735"
      ]
     },
     "execution_count": 47,
     "metadata": {},
     "output_type": "execute_result"
    }
   ],
   "source": [
    "1.4674 * (1 - 0.1725)"
   ]
  }
 ],
 "metadata": {
  "kernelspec": {
   "display_name": "anaconda 3 (ipykernel)",
   "language": "python",
   "name": "python38"
  },
  "language_info": {
   "codemirror_mode": {
    "name": "ipython",
    "version": 3
   },
   "file_extension": ".py",
   "mimetype": "text/x-python",
   "name": "python",
   "nbconvert_exporter": "python",
   "pygments_lexer": "ipython3",
   "version": "3.8.8"
  },
  "orig_nbformat": 4
 },
 "nbformat": 4,
 "nbformat_minor": 2
}
