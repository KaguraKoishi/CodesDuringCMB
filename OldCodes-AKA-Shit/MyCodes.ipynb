{
 "cells": [
  {
   "cell_type": "markdown",
   "id": "cdad709e",
   "metadata": {},
   "source": [
    "依然是pyspark版代码，似乎是为了在开发环境，无法接触到生产环境中的数据时，用于测试计算代码的逻辑"
   ]
  },
  {
   "cell_type": "code",
   "execution_count": 5,
   "id": "f057b42c",
   "metadata": {},
   "outputs": [
    {
     "name": "stdout",
     "output_type": "stream",
     "text": [
      "+----------+------+------+-------+-------+----------+----------+--------------------+--------+-------------+\n",
      "|      date|  code|   nav|acc_nav|adj_nav|nav_pctchg|adj_pctchg|           benchmark|riskfree|days_per_year|\n",
      "+----------+------+------+-------+-------+----------+----------+--------------------+--------+-------------+\n",
      "|2021-11-16|000126|4.0861| 4.4301| 5.4918|     -1.84|     -1.84| 0.01360409793994034|   0.007|          252|\n",
      "|2021-11-15|000126|4.1627| 4.5067| 5.5947|      -4.0|      -4.0|-0.04948465302339...|   0.007|          252|\n",
      "|2021-11-12|000126|4.3362| 4.6802| 5.8279|       0.9|       0.9|-0.11420455436701892|   0.007|          252|\n",
      "|2021-11-11|000126|4.2974| 4.6414| 5.7758|       0.1|       0.1|  0.8654815026580598|   0.007|          252|\n",
      "|2021-11-10|000126|4.2931| 4.6371|   5.77|     -1.89|     -1.89| -0.2878671536331663|   0.007|          252|\n",
      "|2021-11-09|000126|4.3757| 4.7197|  5.881|      0.93|      0.93|-0.02934102712771...|   0.007|          252|\n",
      "|2021-11-08|000126|4.3352| 4.6792| 5.8266|       3.6|       3.6| 0.06941284877177573|   0.007|          252|\n",
      "|2021-11-05|000126|4.1847| 4.5287| 5.6243|      -2.8|      -2.8|-0.24834614503957084|   0.007|          252|\n",
      "|2021-11-04|000126|4.3051| 4.6491| 5.7861|      0.88|      0.88|  0.5521907175318614|   0.007|          252|\n",
      "|2021-11-03|000126|4.2675| 4.6115| 5.7356|     -2.67|     -2.67|-0.20054114549005597|   0.007|          252|\n",
      "|2021-11-02|000126|4.3844| 4.7284| 5.8927|     -1.26|     -1.26| -0.5356493660199189|   0.007|          252|\n",
      "|2021-11-01|000126|4.4403| 4.7843| 5.9678|     -1.73|     -1.73| -0.1740912054445507|   0.007|          252|\n",
      "|2021-10-29|000126|4.5185| 4.8625| 6.0729|      2.42|      2.42|  0.5145421361227238|   0.007|          252|\n",
      "|2021-10-28|000126|4.4117| 4.7557| 5.9294|     -1.27|     -1.27| -0.3685005879758865|   0.007|          252|\n",
      "|2021-10-27|000126|4.4686| 4.8126| 6.0058|      2.19|      2.19|  -0.713171024561267|   0.007|          252|\n",
      "|2021-10-26|000126|4.3727| 4.7167|  5.877|     -0.48|     -0.48|-0.17182286228391366|   0.007|          252|\n",
      "|2021-10-25|000126| 4.394|  4.738| 5.9056|      4.66|      4.66|  0.2156325107919228|   0.007|          252|\n",
      "|2021-10-22|000126|4.1983| 4.5423| 5.6426|     -1.34|     -1.34| 0.34845981369798285|   0.007|          252|\n",
      "|2021-10-21|000126|4.2552| 4.5992|  5.719|     -1.12|     -1.12|  0.2211597414758732|   0.007|          252|\n",
      "|2021-10-20|000126|4.3035| 4.6475|  5.784|      2.27|      2.28|-0.12561547014658814|   0.007|          252|\n",
      "+----------+------+------+-------+-------+----------+----------+--------------------+--------+-------------+\n",
      "only showing top 20 rows\n",
      "\n"
     ]
    }
   ],
   "source": [
    "ben1 = get_price('000300.XSHG', '2013-01-01', '2021-11-16', 'daily', None, True, None)\n",
    "ben1 = spark.createDataFrame(ben1.reset_index())\n",
    "ben1 = ben1.select(\n",
    "    F.substring('index', 1, 10).alias('date'),\n",
    "    ((F.col('close') / F.lag('close').over(Window.orderBy('index')) - 1) * 100).alias('ben1')\n",
    "    ).sort(ben1.index.desc())\n",
    "ben2 = pd.DataFrame(pd.Series(ben2_ori), columns=['ben2'])\n",
    "ben2 = ben2.reset_index().rename(columns= {'index': 'date'})\n",
    "ben2 = spark.createDataFrame(ben2)\n",
    "ben2 = ben2.select(\n",
    "    F.from_unixtime(F.col('date') / 1000, 'yyyy-MM-dd').alias('date'),\n",
    "    'ben2'\n",
    "    ).sort(ben2.date.desc())\n",
    "bench = ben1.join(ben2, 'date').withColumn(\n",
    "    'benchmark',\n",
    "    F.expr('(ben1 * 0.55 + ben2 * 0.45)')\n",
    "    ).drop('ben1', 'ben2').sort(F.col('date').desc())\n",
    "q=query(finance.FUND_NET_VALUE).filter(finance.FUND_NET_VALUE.code==\"000126\").order_by(finance.FUND_NET_VALUE.day.desc())\n",
    "df=finance.run_query(q)\n",
    "nav = spark.createDataFrame(df)\n",
    "nav = nav.select(\n",
    "    'code',\n",
    "    nav.day.alias('date'),\n",
    "    nav.net_value.alias('nav'),\n",
    "    nav.sum_value.alias('acc_nav'),\n",
    "    F.round(nav.refactor_net_value, 4).alias('adj_nav')\n",
    ")\n",
    "window = Window.partitionBy('code').orderBy('date')\n",
    "nav = nav.withColumn(\n",
    "    'nav_pctchg',\n",
    "    F.round((F.col('nav') / F.lag('nav').over(window) - 1) * 100, 2)\n",
    "    ).withColumn(\n",
    "        'adj_pctchg',\n",
    "        F.round((F.col('adj_nav') / F.lag('adj_nav').over(window) - 1) * 100, 2)\n",
    "        )\n",
    "nav = nav.sort(nav.date.desc())\n",
    "nav = nav.join(bench, 'date').sort(nav.date.desc()).withColumn('riskfree', F.expr('0.007')) # 0.0069396961196233065\n",
    "nav = nav.withColumn('days_per_year', F.expr('252'))\n",
    "nav.show()"
   ]
  },
  {
   "cell_type": "code",
   "execution_count": 6,
   "id": "c825efc5",
   "metadata": {},
   "outputs": [
    {
     "name": "stdout",
     "output_type": "stream",
     "text": [
      "+----------+------+------+-------+-------+----------+----------+--------------------+--------+-------------+-------+\n",
      "|      date|  code|   nav|acc_nav|adj_nav|nav_pctchg|adj_pctchg|           benchmark|riskfree|days_per_year| return|\n",
      "+----------+------+------+-------+-------+----------+----------+--------------------+--------+-------------+-------+\n",
      "|2021-11-16|000126|4.0861| 4.4301| 5.4918|     -1.84|     -1.84| 0.01360409793994034|   0.007|          252|-1.8402|\n",
      "|2021-11-15|000126|4.1627| 4.5067| 5.5947|      -4.0|      -4.0|-0.04948465302339...|   0.007|          252|-4.0012|\n",
      "|2021-11-12|000126|4.3362| 4.6802| 5.8279|       0.9|       0.9|-0.11420455436701892|   0.007|          252| 0.9029|\n",
      "|2021-11-11|000126|4.2974| 4.6414| 5.7758|       0.1|       0.1|  0.8654815026580598|   0.007|          252| 0.1002|\n",
      "|2021-11-10|000126|4.2931| 4.6371|   5.77|     -1.89|     -1.89| -0.2878671536331663|   0.007|          252|-1.8877|\n",
      "+----------+------+------+-------+-------+----------+----------+--------------------+--------+-------------+-------+\n",
      "only showing top 5 rows\n",
      "\n"
     ]
    }
   ],
   "source": [
    "def daily_return(nav):\n",
    "    window = Window.partitionBy('code').orderBy('date')\n",
    "    return nav.withColumn(\n",
    "        'return',\n",
    "        F.round((F.col('nav') / F.lag('nav').over(window) - 1) * 100, 4)\n",
    "        ).sort(nav.date.desc())\n",
    "daily_return(nav).show(5)"
   ]
  },
  {
   "cell_type": "code",
   "execution_count": 7,
   "id": "d63a1f9c",
   "metadata": {},
   "outputs": [
    {
     "name": "stdout",
     "output_type": "stream",
     "text": [
      "+------+--------+------------+---------------+\n",
      "|  code|returnmn|ann_returnmn|active_returnmn|\n",
      "+------+--------+------------+---------------+\n",
      "|000126|    97.9|      102.38|          82.79|\n",
      "+------+--------+------------+---------------+\n",
      "\n"
     ]
    }
   ],
   "source": [
    "DT = '2021-11-16'   #全局常量，代表最新日期\n",
    "BDT = '2020-11-17'  # 一年前的日期\n",
    "def period_return(nav, bgndt=BDT, enddt=DT): #截止日期默认为最新日期\n",
    "    nav = nav.filter(nav.date.between(bgndt, enddt))\n",
    "    nav = daily_return(nav)\n",
    "    mul_udf = F.udf(lambda x: reduce(mul, x))\n",
    "    col = F.col('return') / 100 + 1\n",
    "    benchcol = F.col('benchmark') / 100 + 1\n",
    "    return nav.groupBy('code').agg(\n",
    "        F.round((mul_udf(F.collect_list(col)) - 1) * 100, 2).alias('returnmn'),\n",
    "        F.round((mul_udf(F.collect_list(benchcol)) - 1) * 100, 2).alias('bench_returnmn'),\n",
    "        F.max('days_per_year').alias('days_per_year'),\n",
    "        F.count('date').alias('days')).withColumn(\n",
    "            'ann_returnmn',\n",
    "            F.round((F.col('returnmn') / 100 + 1) ** (F.col('days_per_year') / F.col('days')) * 100 - 100, 2)\n",
    "            ).withColumn(\n",
    "                'active_returnmn',\n",
    "                F.col('returnmn') - F.col('bench_returnmn')\n",
    "                ).drop('days', 'days_per_year', 'bench_returnmn')\n",
    "period_return(nav, '2019-12-31', '2020-12-31').show()"
   ]
  },
  {
   "cell_type": "code",
   "execution_count": 8,
   "id": "0481df5d",
   "metadata": {},
   "outputs": [
    {
     "name": "stdout",
     "output_type": "stream",
     "text": [
      "+------+---------+---------+\n",
      "|  code|inner_nhr|outer_nhr|\n",
      "+------+---------+---------+\n",
      "|000126|    18.11|    15.98|\n",
      "+------+---------+---------+\n",
      "\n"
     ]
    }
   ],
   "source": [
    "def new_high(nav, bgndt=BDT, enddt=DT):\n",
    "    top = nav.filter(nav.date <= bgndt).groupBy('code').agg(F.max('nav').alias('top_nav'))\n",
    "    navs = nav.filter(nav.date.between(bgndt, enddt)).sort(nav.date).groupBy('code').agg(\n",
    "        F.collect_list('nav').alias('navs')\n",
    "        )\n",
    "    rdds = top.join(navs, 'code').rdd.map(lambda nav: ({nav.code: [nav.navs, nav.top_nav]}))\n",
    "    def _new_high(rdd):\n",
    "        codes = list(rdd.keys())[0]\n",
    "        values = rdd.get(codes)\n",
    "        days = len(values[0])\n",
    "        bgn_nav = values[0][0]\n",
    "        top_nav = values[1]\n",
    "        inner_break = 0\n",
    "        outer_break = 0\n",
    "        for i in range(0, days):\n",
    "            temp = values[0][i]\n",
    "            if temp > top_nav:\n",
    "                outer_break += 1\n",
    "                top_nav = temp\n",
    "            if temp > bgn_nav:\n",
    "                inner_break += 1\n",
    "                bgn_nav = temp\n",
    "        return codes, round(inner_break / float(days - 1) * 100, 2), round(outer_break / float(days) * 100, 2)\n",
    "    return rdds.map(_new_high).toDF(['code', 'inner_nhr', 'outer_nhr'])\n",
    "new_high(nav, '2020-11-16').show()"
   ]
  },
  {
   "cell_type": "code",
   "execution_count": 9,
   "id": "bcaa35b1",
   "metadata": {},
   "outputs": [
    {
     "name": "stdout",
     "output_type": "stream",
     "text": [
      "+------+-----+------+-------+-------+\n",
      "|  code|total|profit|decline|dec_pct|\n",
      "+------+-----+------+-------+-------+\n",
      "|000126|  243|   134|    109|  44.86|\n",
      "+------+-----+------+-------+-------+\n",
      "\n"
     ]
    }
   ],
   "source": [
    "def profit_decline(nav, bgndt=BDT, enddt=DT):\n",
    "    return nav.filter(nav.date.between(bgndt, enddt)).groupBy('code').agg(\n",
    "        F.count('date').alias('total'),\n",
    "        F.count(F.when(nav.nav_pctchg > 0, 'date')).alias('profit'),\n",
    "        F.count(F.when(nav.nav_pctchg < 0, 'date')).alias('decline')\n",
    "        ).withColumn('dec_pct', F.expr('round(decline / total * 100, 2)'))\n",
    "profit_decline(nav).show()"
   ]
  },
  {
   "cell_type": "code",
   "execution_count": 10,
   "id": "d51973a3",
   "metadata": {},
   "outputs": [
    {
     "name": "stdout",
     "output_type": "stream",
     "text": [
      "+------+--------+--------+-----------+\n",
      "|  code|max_roll|min_roll|profit_rate|\n",
      "+------+--------+--------+-----------+\n",
      "|000126|    68.0|   -5.75|      79.42|\n",
      "+------+--------+--------+-----------+\n",
      "\n",
      "+------+----------+--------+\n",
      "|  code|      date|roll_ret|\n",
      "+------+----------+--------+\n",
      "|000126|2021-05-14|   50.09|\n",
      "|000126|2021-05-13|   53.94|\n",
      "|000126|2021-05-12|    52.3|\n",
      "|000126|2021-05-11|   50.99|\n",
      "|000126|2021-05-10|   49.84|\n",
      "|000126|2021-05-07|   58.42|\n",
      "|000126|2021-05-06|   53.27|\n",
      "|000126|2021-04-30|   51.61|\n",
      "|000126|2021-04-29|   54.57|\n",
      "|000126|2021-04-28|    50.4|\n",
      "|000126|2021-04-27|   55.06|\n",
      "|000126|2021-04-26|   52.89|\n",
      "|000126|2021-04-23|    47.3|\n",
      "|000126|2021-04-22|   47.85|\n",
      "|000126|2021-04-21|   51.41|\n",
      "|000126|2021-04-20|   54.39|\n",
      "|000126|2021-04-19|   50.22|\n",
      "|000126|2021-04-16|   50.25|\n",
      "|000126|2021-04-15|   49.61|\n",
      "|000126|2021-04-14|   46.46|\n",
      "+------+----------+--------+\n",
      "only showing top 20 rows\n",
      "\n"
     ]
    }
   ],
   "source": [
    "def roll(nav, time, date=DT):\n",
    "    a = nav.withColumn(\n",
    "        'date', \n",
    "        F.expr('date_add(add_months(date, -{1}), 0)'.format(date, time))\n",
    "        ).select(\n",
    "            'code',\n",
    "            'date', \n",
    "            F.col('adj_nav').alias('roll_nav')\n",
    "            )\n",
    "    nav = nav.join(\n",
    "        a,\n",
    "        ['date', 'code'],\n",
    "        'left').withColumn(\n",
    "            'roll_nav',\n",
    "            F.last('roll_nav', ignorenulls=True).over(Window.partitionBy('code').orderBy('date'))\n",
    "            )\n",
    "    nav = nav.sort(nav.date.desc()).filter('date < \"2021-05-15\"').withColumn(\n",
    "        'roll', \n",
    "        F.expr('roll_nav / adj_nav - 1') * 100\n",
    "        ).select(\n",
    "            'code',\n",
    "            'date',\n",
    "            F.round('roll', 2).alias('roll_ret')\n",
    "            )\n",
    "    roll_gp = nav.groupBy('code').agg(\n",
    "        F.max('roll_ret').alias('max_roll'),\n",
    "        F.min('roll_ret').alias('min_roll'),\n",
    "        F.round((F.count(F.when(F.col('roll_ret') > 0, 'date')) / F.count('date')) * 100, 2).alias('profit_rate')\n",
    "        )\n",
    "    return nav, roll_gp\n",
    "roll_halfy = roll(nav, 6)\n",
    "roll_halfy[1].show()\n",
    "roll_halfy[0].show()"
   ]
  },
  {
   "cell_type": "code",
   "execution_count": null,
   "id": "13c98fed",
   "metadata": {},
   "outputs": [],
   "source": [
    "def roll_old(nav, time, date=DT):\n",
    "    last_bgndt = spark.sql(\n",
    "        'select string(add_months(\"{0}\", -{1}))'\n",
    "        .format(DT, time)).first()[0] # 最新滚动期的期初日期\n",
    "    diff = nav.filter(nav.date.between(last_bgndt, date)).count()  # 用最新滚动期期初期末之前的交易日数量作为偏移量\n",
    "    window = Window.partitionBy('code').orderBy('date')\n",
    "    roll_nav = nav.select(\n",
    "        'code',\n",
    "        'date',\n",
    "        F.round((F.lead('adj_nav', diff).over(window) / F.col('adj_nav') - 1) * 100, 2).alias('roll_ret')\n",
    "        ).dropna(subset = ['roll_ret']).sort(nav.date.desc())\n",
    "    roll_gp = roll_nav.groupBy('code').agg(\n",
    "        F.max('roll_ret').alias('max_roll'),\n",
    "        F.min('roll_ret').alias('min_roll'),\n",
    "        F.round((F.count(F.when(F.col('roll_ret') > 0, 'date')) / F.count('date')) * 100, 2).alias('profit_rate')\n",
    "        )\n",
    "    return roll_nav, roll_gp\n",
    "roll_halfy = roll(nav, 6)\n",
    "roll_halfy[1].show()\n",
    "roll_halfy[0].show()"
   ]
  },
  {
   "cell_type": "code",
   "execution_count": 11,
   "id": "68d442b5",
   "metadata": {},
   "outputs": [
    {
     "name": "stdout",
     "output_type": "stream",
     "text": [
      "+------+------+-------+\n",
      "|  code|   vol|ann_vol|\n",
      "+------+------+-------+\n",
      "|000126|2.0978|33.3015|\n",
      "+------+------+-------+\n",
      "\n"
     ]
    }
   ],
   "source": [
    "def vol(nav, bgndt=BDT, enddt=DT):\n",
    "    return nav.filter(nav.date.between(bgndt, enddt)).groupBy('code').agg(\n",
    "        F.round(F.stddev_pop('nav_pctchg'), 4).alias('vol'),\n",
    "        F.max('days_per_year').alias('days_per_year')\n",
    "        ).withColumn(\n",
    "            'ann_vol',\n",
    "            F.expr('round(vol * sqrt(days_per_year), 4)')\n",
    "            ).drop('days_per_year')\n",
    "vol(nav).show()"
   ]
  },
  {
   "cell_type": "code",
   "execution_count": 12,
   "id": "cc478688",
   "metadata": {},
   "outputs": [
    {
     "name": "stdout",
     "output_type": "stream",
     "text": [
      "+------+--------+-------+------+\n",
      "|  code|down_vol|sortino|sharpe|\n",
      "+------+--------+-------+------+\n",
      "|000126|   21.45| 2.6919|1.7306|\n",
      "+------+--------+-------+------+\n",
      "\n"
     ]
    }
   ],
   "source": [
    "def sortino_sharpe(nav, bgndt=BDT, enddt=DT):\n",
    "    adj_risk = F.col('nav_pctchg') - F.col('riskfree')\n",
    "    adj_risk0 = F.when(adj_risk > 0 , 0).otherwise(adj_risk)\n",
    "    nav = nav.filter(nav.date.between(bgndt, enddt)).groupBy('code').agg(\n",
    "        F.sum(adj_risk0 ** 2).alias('sum'),\n",
    "        F.mean(adj_risk).alias('mean'),\n",
    "        F.stddev(adj_risk).alias('std'),\n",
    "        F.count('date').alias('cnt'),\n",
    "        F.max('days_per_year').alias('dpy')\n",
    "        )\n",
    "    return nav.withColumn(\n",
    "            'down_vol',\n",
    "            F.expr('sqrt(dpy * sum / (cnt - 1))')\n",
    "            ).withColumn(\n",
    "                'sortino',\n",
    "                F.expr('dpy * mean / down_vol')\n",
    "                ).withColumn(\n",
    "                    'sharpe',\n",
    "                    F.expr('sqrt(dpy) * mean / std')\n",
    "                ).select(\n",
    "                    'code',\n",
    "                    F.round('down_vol', 2).alias('down_vol'),\n",
    "                    F.round('sortino', 4).alias('sortino'),\n",
    "                    F.round('sharpe', 4).alias('sharpe')\n",
    "                    )\n",
    "sortino_sharpe(nav).show()"
   ]
  },
  {
   "cell_type": "code",
   "execution_count": 13,
   "id": "83684f38",
   "metadata": {},
   "outputs": [
    {
     "name": "stdout",
     "output_type": "stream",
     "text": [
      "+------+-----------+-----+\n",
      "|  code|track_error| info|\n",
      "+------+-----------+-----+\n",
      "|000126|     0.2307|2.626|\n",
      "+------+-----------+-----+\n",
      "\n"
     ]
    }
   ],
   "source": [
    "def track(nav, bgndt=BDT, enddt=DT):\n",
    "    active = (F.col('nav_pctchg') - F.col('benchmark')) / 100\n",
    "    nav = nav.filter(nav.date.between(bgndt, enddt)).groupBy('code').agg(\n",
    "        F.stddev_pop(active).alias('std'),\n",
    "        F.mean(active).alias('mean'),\n",
    "        F.max('days_per_year').alias('dpy')\n",
    "        )\n",
    "    return nav.withColumn(\n",
    "        'track_error',\n",
    "        F.expr('std * sqrt(dpy)')\n",
    "        ).withColumn(\n",
    "            'info',\n",
    "            F.expr('mean / track_error * dpy')\n",
    "            ).select(\n",
    "                'code',\n",
    "                F.round('track_error', 4).alias('track_error'),\n",
    "                F.round('info', 4).alias('info')\n",
    "                )\n",
    "track(nav, '2019-12-31', '2020-12-31').show()"
   ]
  },
  {
   "cell_type": "code",
   "execution_count": 14,
   "id": "46e061d0",
   "metadata": {},
   "outputs": [
    {
     "name": "stdout",
     "output_type": "stream",
     "text": [
      "+----------+------+------+-------+-------+----------+----------+--------------------+--------+-------------+--------+\n",
      "|      date|  code|   nav|acc_nav|adj_nav|nav_pctchg|adj_pctchg|           benchmark|riskfree|days_per_year|drawdown|\n",
      "+----------+------+------+-------+-------+----------+----------+--------------------+--------+-------------+--------+\n",
      "|2021-11-16|000126|4.0861| 4.4301| 5.4918|     -1.84|     -1.84| 0.01360409793994034|   0.007|          252|  9.5687|\n",
      "|2021-11-15|000126|4.1627| 4.5067| 5.5947|      -4.0|      -4.0|-0.04948465302339...|   0.007|          252|  7.8743|\n",
      "|2021-11-12|000126|4.3362| 4.6802| 5.8279|       0.9|       0.9|-0.11420455436701892|   0.007|          252|  4.0343|\n",
      "|2021-11-11|000126|4.2974| 4.6414| 5.7758|       0.1|       0.1|  0.8654815026580598|   0.007|          252|  4.8922|\n",
      "|2021-11-10|000126|4.2931| 4.6371|   5.77|     -1.89|     -1.89| -0.2878671536331663|   0.007|          252|  4.9877|\n",
      "|2021-11-09|000126|4.3757| 4.7197|  5.881|      0.93|      0.93|-0.02934102712771...|   0.007|          252|  3.1599|\n",
      "|2021-11-08|000126|4.3352| 4.6792| 5.8266|       3.6|       3.6| 0.06941284877177573|   0.007|          252|  4.0557|\n",
      "|2021-11-05|000126|4.1847| 4.5287| 5.6243|      -2.8|      -2.8|-0.24834614503957084|   0.007|          252|  7.3869|\n",
      "|2021-11-04|000126|4.3051| 4.6491| 5.7861|      0.88|      0.88|  0.5521907175318614|   0.007|          252|  4.7226|\n",
      "|2021-11-03|000126|4.2675| 4.6115| 5.7356|     -2.67|     -2.67|-0.20054114549005597|   0.007|          252|  5.5542|\n",
      "|2021-11-02|000126|4.3844| 4.7284| 5.8927|     -1.26|     -1.26| -0.5356493660199189|   0.007|          252|  2.9673|\n",
      "|2021-11-01|000126|4.4403| 4.7843| 5.9678|     -1.73|     -1.73| -0.1740912054445507|   0.007|          252|  1.7306|\n",
      "|2021-10-29|000126|4.5185| 4.8625| 6.0729|      2.42|      2.42|  0.5145421361227238|   0.007|          252|     0.0|\n",
      "|2021-10-28|000126|4.4117| 4.7557| 5.9294|     -1.27|     -1.27| -0.3685005879758865|   0.007|          252|  1.2721|\n",
      "|2021-10-27|000126|4.4686| 4.8126| 6.0058|      2.19|      2.19|  -0.713171024561267|   0.007|          252|     0.0|\n",
      "|2021-10-26|000126|4.3727| 4.7167|  5.877|     -0.48|     -0.48|-0.17182286228391366|   0.007|          252|  0.4843|\n",
      "|2021-10-25|000126| 4.394|  4.738| 5.9056|      4.66|      4.66|  0.2156325107919228|   0.007|          252|     0.0|\n",
      "|2021-10-22|000126|4.1983| 4.5423| 5.6426|     -1.34|     -1.34| 0.34845981369798285|   0.007|          252|  2.4447|\n",
      "|2021-10-21|000126|4.2552| 4.5992|  5.719|     -1.12|     -1.12|  0.2211597414758732|   0.007|          252|  1.1238|\n",
      "|2021-10-20|000126|4.3035| 4.6475|  5.784|      2.27|      2.28|-0.12561547014658814|   0.007|          252|     0.0|\n",
      "+----------+------+------+-------+-------+----------+----------+--------------------+--------+-------------+--------+\n",
      "only showing top 20 rows\n",
      "\n"
     ]
    }
   ],
   "source": [
    "def drawdown(nav):\n",
    "    # 回撤曲线\n",
    "    window = Window.partitionBy('code').orderBy('date')\n",
    "    return nav.withColumn(\n",
    "        'drawdown',\n",
    "        F.round((1 - F.col('adj_nav') / F.max('adj_nav').over(window)) * 100, 4)\n",
    "        ).sort(nav.date.desc())\n",
    "nav_dd = drawdown(nav)\n",
    "nav_dd.show()"
   ]
  },
  {
   "cell_type": "code",
   "execution_count": 15,
   "id": "dfadba33",
   "metadata": {},
   "outputs": [
    {
     "name": "stdout",
     "output_type": "stream",
     "text": [
      "+------+--------+\n",
      "|  code|drawdown|\n",
      "+------+--------+\n",
      "|000126| 19.9792|\n",
      "+------+--------+\n",
      "\n"
     ]
    }
   ],
   "source": [
    "def max_drawdown(nav_dd, bgndt=BDT, enddt=DT):\n",
    "    return nav_dd.filter(nav_dd.date.between(bgndt, enddt)).groupBy('code').agg(\n",
    "        F.max('drawdown').alias('drawdown')\n",
    "        )\n",
    "max_drawdown(nav_dd).show()"
   ]
  },
  {
   "cell_type": "code",
   "execution_count": 16,
   "id": "1d58567b",
   "metadata": {},
   "outputs": [
    {
     "name": "stdout",
     "output_type": "stream",
     "text": [
      "+------+-----+\n",
      "|  code|count|\n",
      "+------+-----+\n",
      "|000126|   55|\n",
      "+------+-----+\n",
      "\n"
     ]
    }
   ],
   "source": [
    "def drawdown_recover(nav_dd, bgndt=BDT, enddt=DT):\n",
    "    max_dt = nav_dd.join(\n",
    "        max_drawdown(nav_dd, bgndt, enddt),\n",
    "        ['code', 'drawdown']).select(\n",
    "            'code',\n",
    "            F.col('adj_nav').alias('max_adj_nav'), \n",
    "            F.col('date').alias('max_dt'),\n",
    "            F.col('drawdown').alias('max_drawdown')\n",
    "            )\n",
    "    rec_dt = nav_dd.join(\n",
    "        max_dt,\n",
    "        'code'\n",
    "        ).filter(nav_dd.date > max_dt.max_dt).groupBy('code').agg(\n",
    "           F.min(F.when(\n",
    "                F.expr('drawdown = 0'), F.col('date'))).alias('rec_dt')\n",
    "            )\n",
    "    return nav_dd.join(\n",
    "        max_dt,\n",
    "        'code'\n",
    "        ).join(\n",
    "            rec_dt,\n",
    "            'code'\n",
    "            ).filter(nav.date.between(max_dt.max_dt, rec_dt.rec_dt)).groupBy('code').count()\n",
    "drawdown_recover(nav_dd).show()"
   ]
  },
  {
   "cell_type": "code",
   "execution_count": 17,
   "id": "d83fe49a",
   "metadata": {},
   "outputs": [
    {
     "name": "stdout",
     "output_type": "stream",
     "text": [
      "+------+--------+\n",
      "|  code|drawdown|\n",
      "+------+--------+\n",
      "|000126| 18.0748|\n",
      "+------+--------+\n",
      "\n"
     ]
    }
   ],
   "source": [
    "def ac_drawdown(nav):\n",
    "    # 主动收益回撤曲线\n",
    "    window = Window.partitionBy('code').orderBy('date')\n",
    "    nav = nav.withColumn(\n",
    "        'active_nav',\n",
    "        F.expr('nav / (100 + nav_pctchg) * (100 + nav_pctchg - benchmark)')\n",
    "        )\n",
    "    return nav.withColumn(\n",
    "        'drawdown',\n",
    "        F.round((1 - F.col('active_nav') / F.max('active_nav').over(window)) * 100, 4)\n",
    "        ).sort(nav.date.desc())\n",
    "max_drawdown(ac_drawdown(nav)).show()"
   ]
  },
  {
   "cell_type": "code",
   "execution_count": 18,
   "id": "bce1f2ab",
   "metadata": {},
   "outputs": [
    {
     "name": "stdout",
     "output_type": "stream",
     "text": [
      "+------+-----------+\n",
      "|  code|max_decline|\n",
      "+------+-----------+\n",
      "|000126|      -4.96|\n",
      "+------+-----------+\n",
      "\n"
     ]
    }
   ],
   "source": [
    "def max_decline(nav, bgndt=BDT, enddt=DT):\n",
    "    return nav.filter(nav.date.between(bgndt, enddt)).groupBy('code').agg(\n",
    "        F.min('nav_pctchg').alias('max_decline')\n",
    "        )\n",
    "max_decline(nav).show()"
   ]
  },
  {
   "cell_type": "code",
   "execution_count": 19,
   "id": "30912afa",
   "metadata": {},
   "outputs": [
    {
     "name": "stdout",
     "output_type": "stream",
     "text": [
      "+------+----------------+\n",
      "|  code|max_keep_decline|\n",
      "+------+----------------+\n",
      "|000126|               7|\n",
      "+------+----------------+\n",
      "\n"
     ]
    }
   ],
   "source": [
    "def keep_decline(nav, bgndt=BDT, enddt=DT):\n",
    "    window = Window.partitionBy('code').orderBy('date')\n",
    "    nav = nav.select(\n",
    "        'code',\n",
    "        'date',\n",
    "        'nav_pctchg',\n",
    "        F.row_number().over(window).alias('rn'),\n",
    "        F.lag('nav_pctchg').over(window).alias('ret_lag')\n",
    "        ).withColumn(\n",
    "            'decline',\n",
    "            F.sum(F.expr('if(nav_pctchg < 0 and ret_lag < 0, 1, 0)')).over(window)\n",
    "            ).withColumn('diff', F.expr('rn - decline'))\n",
    "    return nav.groupBy('code', 'diff').agg(\n",
    "        F.count('diff').alias('keep_decline')\n",
    "        ).groupBy('code').agg(F.max('keep_decline').alias('max_keep_decline'))\n",
    "keep_decline(nav).show()"
   ]
  },
  {
   "cell_type": "code",
   "execution_count": 20,
   "id": "fdeba987",
   "metadata": {},
   "outputs": [
    {
     "name": "stdout",
     "output_type": "stream",
     "text": [
      "+------+------------------+\n",
      "|  code|            calmar|\n",
      "+------+------------------+\n",
      "|000126|1.1470571369532954|\n",
      "+------+------------------+\n",
      "\n"
     ]
    }
   ],
   "source": [
    "def calmar(nav, bgndt=BDT, enddt=DT):\n",
    "    window = Window.partitionBy('code')\n",
    "    mean = nav.filter(nav.date.between(bgndt, enddt)).groupBy('code').agg(\n",
    "        F.mean('nav_pctchg').alias('mean1'),\n",
    "        F.mean('riskfree').alias('mean2')\n",
    "    )\n",
    "    dd = max_drawdown(drawdown(nav), bgndt, enddt)\n",
    "    return mean.join(dd, 'code').select(\n",
    "        'code',\n",
    "        F.expr('(mean1 - mean2) / drawdown * 100').alias('calmar')\n",
    "        )\n",
    "calmar(nav).show()"
   ]
  },
  {
   "cell_type": "code",
   "execution_count": 21,
   "id": "7640877e",
   "metadata": {},
   "outputs": [
    {
     "name": "stdout",
     "output_type": "stream",
     "text": [
      "+------+------+------+\n",
      "|  code|  beta| alpha|\n",
      "+------+------+------+\n",
      "|000126|1.8872|0.2218|\n",
      "+------+------+------+\n",
      "\n"
     ]
    }
   ],
   "source": [
    "def beta_alpha(nav, bgndt=BDT, enddt=DT):\n",
    "    nav = nav.filter(nav.date.between(bgndt, enddt))\n",
    "    rdds = nav.groupBy('code').agg(\n",
    "        F.collect_list('nav_pctchg').alias('returnmn'),\n",
    "        F.collect_list('riskfree').alias('riskfreemn'),\n",
    "        F.collect_list('benchmark').alias('benchmarkmn')\n",
    "        ).rdd.map(lambda nav : ({nav.code: [nav.returnmn, nav.riskfreemn, nav.benchmarkmn]}))\n",
    "    def beta(rdd):\n",
    "        codes = list(rdd.keys())[0]\n",
    "        values = rdd.get(codes)\n",
    "        ret = np.array(values[0]).astype(float)\n",
    "        risk = np.array(values[1]).astype(float)\n",
    "        bench = np.array(values[2]).astype(float)\n",
    "        cov = np.cov(ret - risk, bench - risk)\n",
    "        beta = cov[0][1] / cov[1][1]\n",
    "        return codes, np.float(beta)\n",
    "    df = rdds.map(beta).toDF(['code', 'beta'])\n",
    "    nav = nav.join(df, 'code')\n",
    "    col = F.expr('nav_pctchg - riskfree - beta * (benchmark - riskfree)')\n",
    "    return nav.groupBy('code').agg(\n",
    "        F.round(F.max('beta'), 4).alias('beta'),\n",
    "        F.round(F.mean(col), 4).alias('alpha')\n",
    "    )\n",
    "beta_alpha(nav, '2020-11-16').show()"
   ]
  }
 ],
 "metadata": {
  "interpreter": {
   "hash": "647d796bb85e8cd1de9f6f9fbb61892ee233b464471ac33ff1881633dd037213"
  },
  "kernelspec": {
   "display_name": "anaconda 3 (ipykernel)",
   "language": "python",
   "name": "python38"
  },
  "language_info": {
   "codemirror_mode": {
    "name": "ipython",
    "version": 3
   },
   "file_extension": ".py",
   "mimetype": "text/x-python",
   "name": "python",
   "nbconvert_exporter": "python",
   "pygments_lexer": "ipython3",
   "version": "3.8.8"
  }
 },
 "nbformat": 4,
 "nbformat_minor": 5
}
